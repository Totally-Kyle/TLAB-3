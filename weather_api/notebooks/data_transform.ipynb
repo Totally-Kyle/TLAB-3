{
 "cells": [
  {
   "cell_type": "code",
   "execution_count": 64,
   "metadata": {},
   "outputs": [],
   "source": [
    "import pandas as pd\n",
    "import matplotlib.pyplot as plt\n",
    "import seaborn as sns"
   ]
  },
  {
   "cell_type": "markdown",
   "metadata": {},
   "source": [
    "load the weather data from the csv folder"
   ]
  },
  {
   "cell_type": "code",
   "execution_count": 65,
   "metadata": {},
   "outputs": [],
   "source": [
    "df = pd.read_csv('/Users/sa24/Downloads/weather_api/data/csv/weather.csv')"
   ]
  },
  {
   "cell_type": "markdown",
   "metadata": {},
   "source": [
    "Change the time column to datetime"
   ]
  },
  {
   "cell_type": "code",
   "execution_count": 66,
   "metadata": {},
   "outputs": [],
   "source": [
    "df['time'] = pd.to_datetime(df['time'])"
   ]
  },
  {
   "cell_type": "code",
   "execution_count": 67,
   "metadata": {},
   "outputs": [
    {
     "name": "stdout",
     "output_type": "stream",
     "text": [
      "       Unnamed: 0                time  temperature_2m  relative_humidity_2m  \\\n",
      "0               0 2022-01-01 00:00:00            18.0                    96   \n",
      "1               1 2022-01-01 01:00:00            18.2                    95   \n",
      "2               2 2022-01-01 02:00:00            18.0                    96   \n",
      "3               3 2022-01-01 03:00:00            17.9                    97   \n",
      "4               4 2022-01-01 04:00:00            17.8                    98   \n",
      "...           ...                 ...             ...                   ...   \n",
      "17515       17515 2023-12-31 19:00:00            26.5                    75   \n",
      "17516       17516 2023-12-31 20:00:00            25.9                    78   \n",
      "17517       17517 2023-12-31 21:00:00            25.2                    82   \n",
      "17518       17518 2023-12-31 22:00:00            24.0                    85   \n",
      "17519       17519 2023-12-31 23:00:00            22.7                    87   \n",
      "\n",
      "       precipitation  surface_pressure  \n",
      "0                0.0             906.6  \n",
      "1                0.1             907.4  \n",
      "2                0.1             907.2  \n",
      "3                0.3             906.5  \n",
      "4                1.0             905.9  \n",
      "...              ...               ...  \n",
      "17515            0.5             908.8  \n",
      "17516            0.5             908.4  \n",
      "17517            0.5             908.5  \n",
      "17518            3.2             909.0  \n",
      "17519            3.2             909.8  \n",
      "\n",
      "[17520 rows x 6 columns]\n"
     ]
    }
   ],
   "source": [
    "print(df)"
   ]
  },
  {
   "cell_type": "markdown",
   "metadata": {},
   "source": [
    "Set the DataFrame index using the time column"
   ]
  },
  {
   "cell_type": "code",
   "execution_count": 68,
   "metadata": {},
   "outputs": [],
   "source": [
    "df.set_index(\"time\", inplace=True)"
   ]
  },
  {
   "cell_type": "code",
   "execution_count": 69,
   "metadata": {},
   "outputs": [
    {
     "name": "stdout",
     "output_type": "stream",
     "text": [
      "                     Unnamed: 0  temperature_2m  relative_humidity_2m  \\\n",
      "time                                                                    \n",
      "2022-01-01 00:00:00           0            18.0                    96   \n",
      "2022-01-01 01:00:00           1            18.2                    95   \n",
      "2022-01-01 02:00:00           2            18.0                    96   \n",
      "2022-01-01 03:00:00           3            17.9                    97   \n",
      "2022-01-01 04:00:00           4            17.8                    98   \n",
      "...                         ...             ...                   ...   \n",
      "2023-12-31 19:00:00       17515            26.5                    75   \n",
      "2023-12-31 20:00:00       17516            25.9                    78   \n",
      "2023-12-31 21:00:00       17517            25.2                    82   \n",
      "2023-12-31 22:00:00       17518            24.0                    85   \n",
      "2023-12-31 23:00:00       17519            22.7                    87   \n",
      "\n",
      "                     precipitation  surface_pressure  \n",
      "time                                                  \n",
      "2022-01-01 00:00:00            0.0             906.6  \n",
      "2022-01-01 01:00:00            0.1             907.4  \n",
      "2022-01-01 02:00:00            0.1             907.2  \n",
      "2022-01-01 03:00:00            0.3             906.5  \n",
      "2022-01-01 04:00:00            1.0             905.9  \n",
      "...                            ...               ...  \n",
      "2023-12-31 19:00:00            0.5             908.8  \n",
      "2023-12-31 20:00:00            0.5             908.4  \n",
      "2023-12-31 21:00:00            0.5             908.5  \n",
      "2023-12-31 22:00:00            3.2             909.0  \n",
      "2023-12-31 23:00:00            3.2             909.8  \n",
      "\n",
      "[17520 rows x 5 columns]\n"
     ]
    }
   ],
   "source": [
    "print(df)"
   ]
  },
  {
   "cell_type": "code",
   "execution_count": 70,
   "metadata": {},
   "outputs": [
    {
     "data": {
      "text/html": [
       "<div>\n",
       "<style scoped>\n",
       "    .dataframe tbody tr th:only-of-type {\n",
       "        vertical-align: middle;\n",
       "    }\n",
       "\n",
       "    .dataframe tbody tr th {\n",
       "        vertical-align: top;\n",
       "    }\n",
       "\n",
       "    .dataframe thead th {\n",
       "        text-align: right;\n",
       "    }\n",
       "</style>\n",
       "<table border=\"1\" class=\"dataframe\">\n",
       "  <thead>\n",
       "    <tr style=\"text-align: right;\">\n",
       "      <th></th>\n",
       "      <th>Unnamed: 0</th>\n",
       "      <th>temperature_2m</th>\n",
       "      <th>relative_humidity_2m</th>\n",
       "      <th>precipitation</th>\n",
       "      <th>surface_pressure</th>\n",
       "    </tr>\n",
       "    <tr>\n",
       "      <th>time</th>\n",
       "      <th></th>\n",
       "      <th></th>\n",
       "      <th></th>\n",
       "      <th></th>\n",
       "      <th></th>\n",
       "    </tr>\n",
       "  </thead>\n",
       "  <tbody>\n",
       "    <tr>\n",
       "      <th>2022-01-01 00:00:00</th>\n",
       "      <td>0</td>\n",
       "      <td>18.0</td>\n",
       "      <td>96</td>\n",
       "      <td>0.0</td>\n",
       "      <td>906.6</td>\n",
       "    </tr>\n",
       "    <tr>\n",
       "      <th>2022-01-01 01:00:00</th>\n",
       "      <td>1</td>\n",
       "      <td>18.2</td>\n",
       "      <td>95</td>\n",
       "      <td>0.1</td>\n",
       "      <td>907.4</td>\n",
       "    </tr>\n",
       "    <tr>\n",
       "      <th>2022-01-01 02:00:00</th>\n",
       "      <td>2</td>\n",
       "      <td>18.0</td>\n",
       "      <td>96</td>\n",
       "      <td>0.1</td>\n",
       "      <td>907.2</td>\n",
       "    </tr>\n",
       "    <tr>\n",
       "      <th>2022-01-01 03:00:00</th>\n",
       "      <td>3</td>\n",
       "      <td>17.9</td>\n",
       "      <td>97</td>\n",
       "      <td>0.3</td>\n",
       "      <td>906.5</td>\n",
       "    </tr>\n",
       "    <tr>\n",
       "      <th>2022-01-01 04:00:00</th>\n",
       "      <td>4</td>\n",
       "      <td>17.8</td>\n",
       "      <td>98</td>\n",
       "      <td>1.0</td>\n",
       "      <td>905.9</td>\n",
       "    </tr>\n",
       "  </tbody>\n",
       "</table>\n",
       "</div>"
      ],
      "text/plain": [
       "                     Unnamed: 0  temperature_2m  relative_humidity_2m  \\\n",
       "time                                                                    \n",
       "2022-01-01 00:00:00           0            18.0                    96   \n",
       "2022-01-01 01:00:00           1            18.2                    95   \n",
       "2022-01-01 02:00:00           2            18.0                    96   \n",
       "2022-01-01 03:00:00           3            17.9                    97   \n",
       "2022-01-01 04:00:00           4            17.8                    98   \n",
       "\n",
       "                     precipitation  surface_pressure  \n",
       "time                                                  \n",
       "2022-01-01 00:00:00            0.0             906.6  \n",
       "2022-01-01 01:00:00            0.1             907.4  \n",
       "2022-01-01 02:00:00            0.1             907.2  \n",
       "2022-01-01 03:00:00            0.3             906.5  \n",
       "2022-01-01 04:00:00            1.0             905.9  "
      ]
     },
     "execution_count": 70,
     "metadata": {},
     "output_type": "execute_result"
    }
   ],
   "source": [
    "df.head()"
   ]
  },
  {
   "cell_type": "markdown",
   "metadata": {},
   "source": [
    "Get the monthly median"
   ]
  },
  {
   "cell_type": "code",
   "execution_count": 89,
   "metadata": {},
   "outputs": [
    {
     "name": "stderr",
     "output_type": "stream",
     "text": [
      "/var/folders/fz/fjrs1yms7rbcd_w7wg96j1fm0000gn/T/ipykernel_36931/3333063971.py:1: FutureWarning: 'M' is deprecated and will be removed in a future version, please use 'ME' instead.\n",
      "  monthhly_median_data = df.resample('M').median()\n"
     ]
    }
   ],
   "source": [
    "monthly_median_data = df.resample('M').median()"
   ]
  },
  {
   "cell_type": "markdown",
   "metadata": {},
   "source": [
    "create csv fil to store monthly data"
   ]
  },
  {
   "cell_type": "code",
   "execution_count": null,
   "metadata": {},
   "outputs": [],
   "source": [
    "df.to_csv(\"monthly_median_data.csv\")"
   ]
  },
  {
   "cell_type": "markdown",
   "metadata": {},
   "source": [
    "Save the monthly median to CSV"
   ]
  },
  {
   "cell_type": "code",
   "execution_count": 90,
   "metadata": {},
   "outputs": [],
   "source": [
    "monthly_median_data.to_csv(\"/Users/sa24/Downloads/weather_api/data/csv/monthly_median_data.csv\")"
   ]
  },
  {
   "cell_type": "code",
   "execution_count": 85,
   "metadata": {},
   "outputs": [
    {
     "name": "stdout",
     "output_type": "stream",
     "text": [
      "            Unnamed: 0  temperature_2m  relative_humidity_2m  precipitation  \\\n",
      "time                                                                          \n",
      "2022-01-31       371.5           19.10                  92.0            0.1   \n",
      "2022-02-28      1079.5           19.10                  92.0            0.0   \n",
      "2022-03-31      1787.5           19.80                  84.0            0.0   \n",
      "2022-04-30      2519.5           18.45                  83.0            0.0   \n",
      "2022-05-31      3251.5           14.80                  79.0            0.0   \n",
      "2022-06-30      3983.5           15.40                  73.0            0.0   \n",
      "2022-07-31      4715.5           15.85                  59.0            0.0   \n",
      "2022-08-31      5459.5           16.70                  56.0            0.0   \n",
      "2022-09-30      6191.5           18.60                  61.0            0.0   \n",
      "2022-10-31      6923.5           19.80                  72.0            0.0   \n",
      "2022-11-30      7655.5           18.80                  78.0            0.0   \n",
      "2022-12-31      8387.5           20.40                  86.0            0.0   \n",
      "2023-01-31      9131.5           20.50                  88.0            0.1   \n",
      "2023-02-28      9839.5           21.80                  86.0            0.0   \n",
      "2023-03-31     10547.5           21.65                  82.0            0.0   \n",
      "2023-04-30     11279.5           19.70                  81.0            0.0   \n",
      "2023-05-31     12011.5           17.30                  76.0            0.0   \n",
      "2023-06-30     12743.5           15.80                  78.0            0.0   \n",
      "2023-07-31     13475.5           16.70                  72.0            0.0   \n",
      "2023-08-31     14219.5           18.80                  69.5            0.0   \n",
      "2023-09-30     14951.5           23.00                  60.0            0.0   \n",
      "2023-10-31     15683.5           22.60                  80.0            0.0   \n",
      "2023-11-30     16415.5           23.90                  71.5            0.0   \n",
      "2023-12-31     17147.5           23.30                  76.0            0.0   \n",
      "\n",
      "            surface_pressure  \n",
      "time                          \n",
      "2022-01-31            908.70  \n",
      "2022-02-28            909.20  \n",
      "2022-03-31            910.10  \n",
      "2022-04-30            911.30  \n",
      "2022-05-31            912.40  \n",
      "2022-06-30            913.10  \n",
      "2022-07-31            914.40  \n",
      "2022-08-31            914.00  \n",
      "2022-09-30            912.30  \n",
      "2022-10-31            910.70  \n",
      "2022-11-30            910.80  \n",
      "2022-12-31            910.50  \n",
      "2023-01-31            911.80  \n",
      "2023-02-28            912.60  \n",
      "2023-03-31            913.40  \n",
      "2023-04-30            912.80  \n",
      "2023-05-31            914.80  \n",
      "2023-06-30            916.10  \n",
      "2023-07-31            916.50  \n",
      "2023-08-31            915.30  \n",
      "2023-09-30            914.25  \n",
      "2023-10-31            912.20  \n",
      "2023-11-30            911.50  \n",
      "2023-12-31            911.80  \n"
     ]
    }
   ],
   "source": [
    "print(monthly_median_data)"
   ]
  },
  {
   "cell_type": "markdown",
   "metadata": {},
   "source": [
    "Get the Yearly median"
   ]
  },
  {
   "cell_type": "code",
   "execution_count": 93,
   "metadata": {},
   "outputs": [
    {
     "name": "stderr",
     "output_type": "stream",
     "text": [
      "/var/folders/fz/fjrs1yms7rbcd_w7wg96j1fm0000gn/T/ipykernel_36931/3202544980.py:1: FutureWarning: 'Y' is deprecated and will be removed in a future version, please use 'YE' instead.\n",
      "  yearly_median_data = df.resample('Y').median()\n"
     ]
    }
   ],
   "source": [
    "yearly_median_data = df.resample('Y').median()"
   ]
  },
  {
   "cell_type": "markdown",
   "metadata": {},
   "source": [
    "Create CSV file to save yearly data"
   ]
  },
  {
   "cell_type": "code",
   "execution_count": 92,
   "metadata": {},
   "outputs": [],
   "source": [
    "df.to_csv('yearly_weather_data.csv')"
   ]
  },
  {
   "cell_type": "code",
   "execution_count": 94,
   "metadata": {},
   "outputs": [],
   "source": [
    "yearly_median_data.to_csv('/Users/sa24/Downloads/weather_api/notebooks/yearly_weather_data.csv')"
   ]
  },
  {
   "cell_type": "markdown",
   "metadata": {},
   "source": [
    "select the data in br_final"
   ]
  },
  {
   "cell_type": "code",
   "execution_count": 105,
   "metadata": {},
   "outputs": [],
   "source": [
    "df = pd.read_csv(\"/Users/sa24/Downloads/weather_api/data/csv/br_final.csv\")"
   ]
  },
  {
   "cell_type": "markdown",
   "metadata": {},
   "source": [
    "See if there's any null values"
   ]
  },
  {
   "cell_type": "code",
   "execution_count": 106,
   "metadata": {},
   "outputs": [
    {
     "data": {
      "text/plain": [
       "country                0\n",
       "subdivision            0\n",
       "type                   0\n",
       "million_60kgs_bag      0\n",
       "year                   0\n",
       "nonbear_mill_trees     5\n",
       "bear_mill_trees        5\n",
       "nonbear_thous_hect     5\n",
       "bear_thous_hect        5\n",
       "trees_hect_bear        5\n",
       "trees_hect_nonbear     5\n",
       "avg_unemp_perc        48\n",
       "dtype: int64"
      ]
     },
     "execution_count": 106,
     "metadata": {},
     "output_type": "execute_result"
    }
   ],
   "source": [
    "df.isna().sum()"
   ]
  },
  {
   "cell_type": "markdown",
   "metadata": {},
   "source": [
    "Drop null values"
   ]
  },
  {
   "cell_type": "code",
   "execution_count": 107,
   "metadata": {},
   "outputs": [],
   "source": [
    "df.dropna(inplace=True)"
   ]
  },
  {
   "cell_type": "code",
   "execution_count": 108,
   "metadata": {},
   "outputs": [
    {
     "name": "stdout",
     "output_type": "stream",
     "text": [
      "    country     subdivision     type  million_60kgs_bag  year  \\\n",
      "4    Brazil          Parana  Arabica                0.5  2002   \n",
      "9    Brazil          Parana  Arabica                2.6  2003   \n",
      "14   Brazil          Parana  Arabica                2.2  2004   \n",
      "19   Brazil          Parana  Arabica                2.6  2005   \n",
      "24   Brazil          Parana  Arabica                1.8  2006   \n",
      "..      ...             ...      ...                ...   ...   \n",
      "105  Brazil    Minas Gerais  Arabica               24.5  2022   \n",
      "106  Brazil  Espirito Santo  Arabica                3.7  2022   \n",
      "107  Brazil  Espirito Santo  Robusta               15.7  2022   \n",
      "108  Brazil       Sao Paulo  Arabica                4.6  2022   \n",
      "109  Brazil          Parana  Arabica                1.0  2022   \n",
      "\n",
      "     nonbear_mill_trees  bear_mill_trees  nonbear_thous_hect  bear_thous_hect  \\\n",
      "4                1500.0           4465.0               495.0           2120.0   \n",
      "9                1125.0           5265.0               315.0           2360.0   \n",
      "14                631.0           5050.0               205.0           2174.0   \n",
      "19                466.0           5255.0               148.0           2305.0   \n",
      "24                581.0           5330.0               175.0           2298.0   \n",
      "..                  ...              ...                 ...              ...   \n",
      "105              1500.0           6010.0               470.0           2010.0   \n",
      "106              1500.0           6010.0               470.0           2010.0   \n",
      "107              1500.0           6010.0               470.0           2010.0   \n",
      "108              1500.0           6010.0               470.0           2010.0   \n",
      "109              1500.0           6010.0               470.0           2010.0   \n",
      "\n",
      "     trees_hect_bear  trees_hect_nonbear  avg_unemp_perc  \n",
      "4             2106.0              3030.0           6.950  \n",
      "9             2231.0              3577.0           7.160  \n",
      "14            2323.0              3075.0           6.150  \n",
      "19            2280.0              3149.0           6.710  \n",
      "24            2319.0              3320.0           6.530  \n",
      "..               ...                 ...             ...  \n",
      "105           2990.0              3191.0           7.150  \n",
      "106           2990.0              3191.0           7.925  \n",
      "107           2990.0              3191.0           7.925  \n",
      "108           2990.0              3191.0           9.075  \n",
      "109           2990.0              3191.0           5.825  \n",
      "\n",
      "[62 rows x 12 columns]\n"
     ]
    }
   ],
   "source": [
    "print(df)"
   ]
  },
  {
   "cell_type": "code",
   "execution_count": 166,
   "metadata": {},
   "outputs": [],
   "source": [
    "df1 = pd.read_csv(\"/Users/sa24/Downloads/weather_api/data/csv/yearly_median_data.csv\")"
   ]
  },
  {
   "cell_type": "markdown",
   "metadata": {},
   "source": [
    "Merge br_final and yearly_median_data"
   ]
  },
  {
   "cell_type": "code",
   "execution_count": 175,
   "metadata": {},
   "outputs": [],
   "source": [
    "harvest_data = df.join(df1, how='outer')"
   ]
  },
  {
   "cell_type": "code",
   "execution_count": 176,
   "metadata": {},
   "outputs": [],
   "source": [
    "harvest_data = harvest_data.drop(columns=\"avg_unemp_perc\",inplace=True)"
   ]
  },
  {
   "cell_type": "code",
   "execution_count": 177,
   "metadata": {},
   "outputs": [],
   "source": [
    "harvest_data = pd.read_csv(\"/Users/sa24/Downloads/weather_api/data/csv/yearly_median_data.csv\")"
   ]
  },
  {
   "cell_type": "code",
   "execution_count": 178,
   "metadata": {},
   "outputs": [],
   "source": [
    "harvest_data.dropna(inplace=True)"
   ]
  },
  {
   "cell_type": "code",
   "execution_count": 179,
   "metadata": {},
   "outputs": [],
   "source": [
    "df.to_csv(\"Harvest.csv\")"
   ]
  },
  {
   "cell_type": "code",
   "execution_count": 174,
   "metadata": {},
   "outputs": [],
   "source": [
    "harvest_data.to_csv(\"/Users/sa24/Downloads/weather_api/data/csv/Harvest.csv\")"
   ]
  }
 ],
 "metadata": {
  "kernelspec": {
   "display_name": "base",
   "language": "python",
   "name": "python3"
  },
  "language_info": {
   "codemirror_mode": {
    "name": "ipython",
    "version": 3
   },
   "file_extension": ".py",
   "mimetype": "text/x-python",
   "name": "python",
   "nbconvert_exporter": "python",
   "pygments_lexer": "ipython3",
   "version": "3.12.7"
  }
 },
 "nbformat": 4,
 "nbformat_minor": 2
}
